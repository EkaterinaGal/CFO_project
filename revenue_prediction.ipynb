{
 "cells": [
  {
   "cell_type": "code",
   "execution_count": 79,
   "metadata": {},
   "outputs": [],
   "source": [
    "#import libraries\n",
    "import pandas as pd\n",
    "import numpy as np\n",
    "import sklearn as sk\n",
    "import matplotlib.pyplot as plt\n",
    "import datetime as dt\n",
    "import os\n",
    "from sklearn.tree import plot_tree\n",
    "import matplotlib.pyplot as plt\n",
    "%matplotlib inline"
   ]
  },
  {
   "cell_type": "code",
   "execution_count": 44,
   "metadata": {},
   "outputs": [],
   "source": [
    "#import dataset & make a copy\n",
    "os.getcwd()\n",
    "os.chdir('/Users/ekaterinagalin/Desktop/IBM')"
   ]
  },
  {
   "cell_type": "code",
   "execution_count": 45,
   "metadata": {},
   "outputs": [
    {
     "data": {
      "text/html": [
       "<div>\n",
       "<style scoped>\n",
       "    .dataframe tbody tr th:only-of-type {\n",
       "        vertical-align: middle;\n",
       "    }\n",
       "\n",
       "    .dataframe tbody tr th {\n",
       "        vertical-align: top;\n",
       "    }\n",
       "\n",
       "    .dataframe thead th {\n",
       "        text-align: right;\n",
       "    }\n",
       "</style>\n",
       "<table border=\"1\" class=\"dataframe\">\n",
       "  <thead>\n",
       "    <tr style=\"text-align: right;\">\n",
       "      <th></th>\n",
       "      <th>Purchase Date</th>\n",
       "      <th>Customer ID</th>\n",
       "      <th>Gender</th>\n",
       "      <th>Marital Status</th>\n",
       "      <th>Homeowner</th>\n",
       "      <th>Children</th>\n",
       "      <th>Annual Income</th>\n",
       "      <th>City</th>\n",
       "      <th>State or Province</th>\n",
       "      <th>Country</th>\n",
       "      <th>Product Family</th>\n",
       "      <th>Product Department</th>\n",
       "      <th>Product Category</th>\n",
       "      <th>Units Sold</th>\n",
       "      <th>Revenue</th>\n",
       "    </tr>\n",
       "  </thead>\n",
       "  <tbody>\n",
       "    <tr>\n",
       "      <th>0</th>\n",
       "      <td>18.12.12</td>\n",
       "      <td>7223</td>\n",
       "      <td>F</td>\n",
       "      <td>S</td>\n",
       "      <td>Y</td>\n",
       "      <td>2</td>\n",
       "      <td>$30K - $50K</td>\n",
       "      <td>Los Angeles</td>\n",
       "      <td>CA</td>\n",
       "      <td>USA</td>\n",
       "      <td>Food</td>\n",
       "      <td>Snack Foods</td>\n",
       "      <td>Snack Foods</td>\n",
       "      <td>5</td>\n",
       "      <td>$27.38</td>\n",
       "    </tr>\n",
       "    <tr>\n",
       "      <th>1</th>\n",
       "      <td>20.12.12</td>\n",
       "      <td>7841</td>\n",
       "      <td>M</td>\n",
       "      <td>M</td>\n",
       "      <td>Y</td>\n",
       "      <td>5</td>\n",
       "      <td>$70K - $90K</td>\n",
       "      <td>Los Angeles</td>\n",
       "      <td>CA</td>\n",
       "      <td>USA</td>\n",
       "      <td>Food</td>\n",
       "      <td>Produce</td>\n",
       "      <td>Vegetables</td>\n",
       "      <td>5</td>\n",
       "      <td>$14.90</td>\n",
       "    </tr>\n",
       "    <tr>\n",
       "      <th>2</th>\n",
       "      <td>21.12.12</td>\n",
       "      <td>8374</td>\n",
       "      <td>F</td>\n",
       "      <td>M</td>\n",
       "      <td>N</td>\n",
       "      <td>2</td>\n",
       "      <td>$50K - $70K</td>\n",
       "      <td>Bremerton</td>\n",
       "      <td>WA</td>\n",
       "      <td>USA</td>\n",
       "      <td>Food</td>\n",
       "      <td>Snack Foods</td>\n",
       "      <td>Snack Foods</td>\n",
       "      <td>3</td>\n",
       "      <td>$5.52</td>\n",
       "    </tr>\n",
       "    <tr>\n",
       "      <th>3</th>\n",
       "      <td>21.12.12</td>\n",
       "      <td>9619</td>\n",
       "      <td>M</td>\n",
       "      <td>M</td>\n",
       "      <td>Y</td>\n",
       "      <td>3</td>\n",
       "      <td>$30K - $50K</td>\n",
       "      <td>Portland</td>\n",
       "      <td>OR</td>\n",
       "      <td>USA</td>\n",
       "      <td>Food</td>\n",
       "      <td>Snacks</td>\n",
       "      <td>Candy</td>\n",
       "      <td>4</td>\n",
       "      <td>$4.44</td>\n",
       "    </tr>\n",
       "    <tr>\n",
       "      <th>4</th>\n",
       "      <td>22.12.12</td>\n",
       "      <td>1900</td>\n",
       "      <td>F</td>\n",
       "      <td>S</td>\n",
       "      <td>Y</td>\n",
       "      <td>3</td>\n",
       "      <td>$130K - $150K</td>\n",
       "      <td>Beverly Hills</td>\n",
       "      <td>CA</td>\n",
       "      <td>USA</td>\n",
       "      <td>Drink</td>\n",
       "      <td>Beverages</td>\n",
       "      <td>Carbonated Beverages</td>\n",
       "      <td>4</td>\n",
       "      <td>$14.00</td>\n",
       "    </tr>\n",
       "  </tbody>\n",
       "</table>\n",
       "</div>"
      ],
      "text/plain": [
       "  Purchase Date  Customer ID Gender Marital Status Homeowner  Children  \\\n",
       "0      18.12.12         7223      F              S         Y         2   \n",
       "1      20.12.12         7841      M              M         Y         5   \n",
       "2      21.12.12         8374      F              M         N         2   \n",
       "3      21.12.12         9619      M              M         Y         3   \n",
       "4      22.12.12         1900      F              S         Y         3   \n",
       "\n",
       "   Annual Income           City State or Province Country Product Family  \\\n",
       "0    $30K - $50K    Los Angeles                CA     USA           Food   \n",
       "1    $70K - $90K    Los Angeles                CA     USA           Food   \n",
       "2    $50K - $70K      Bremerton                WA     USA           Food   \n",
       "3    $30K - $50K       Portland                OR     USA           Food   \n",
       "4  $130K - $150K  Beverly Hills                CA     USA          Drink   \n",
       "\n",
       "  Product Department      Product Category  Units Sold Revenue  \n",
       "0        Snack Foods           Snack Foods           5  $27.38  \n",
       "1            Produce            Vegetables           5  $14.90  \n",
       "2        Snack Foods           Snack Foods           3   $5.52  \n",
       "3             Snacks                 Candy           4   $4.44  \n",
       "4          Beverages  Carbonated Beverages           4  $14.00  "
      ]
     },
     "execution_count": 45,
     "metadata": {},
     "output_type": "execute_result"
    }
   ],
   "source": [
    "#import dataset\n",
    "data = pd.read_csv('Supermarket Transactions.csv' )\n",
    "\n",
    "#import dataset, containing imformation about margin\n",
    "headers = ['Product Category', 'Margin']\n",
    "margin = pd.read_excel ('margin.xlsx', names = headers, skiprows = 2)\n",
    "\n",
    "df = data.copy()\n",
    "df.head()"
   ]
  },
  {
   "cell_type": "code",
   "execution_count": 93,
   "metadata": {},
   "outputs": [],
   "source": [
    "#merge the two datasets\n",
    "data_full = pd.merge(df, margin, how = 'left', on = ['Product Category'])"
   ]
  },
  {
   "cell_type": "code",
   "execution_count": 92,
   "metadata": {},
   "outputs": [],
   "source": [
    "#remove $ sign & convert Revenue into float type\n",
    "data_full['Revenue'] = data_full['Revenue'].astype(str)\n",
    "data_full['Revenue'] = data_full['Revenue'].replace ({'\\$': ''}, regex = True)\n",
    "data_full['Revenue'] = data_full['Revenue'].astype(float)"
   ]
  },
  {
   "cell_type": "code",
   "execution_count": 50,
   "metadata": {},
   "outputs": [
    {
     "data": {
      "text/plain": [
       "(14059, 18)"
      ]
     },
     "execution_count": 50,
     "metadata": {},
     "output_type": "execute_result"
    }
   ],
   "source": [
    "#engineer new columns Profit & COGS\n",
    "data_full['Profit'] = data_full['Revenue']* data_full['Margin']\n",
    "data_full['CODS'] = data_full['Revenue'] - data_full['Profit']\n",
    "data_full.shape"
   ]
  },
  {
   "cell_type": "code",
   "execution_count": 51,
   "metadata": {},
   "outputs": [],
   "source": [
    "#convert Purchase Date column into datetime object\n",
    "data_full['Purchase Date'] = pd.to_datetime(data_full['Purchase Date'], errors = 'coerce')"
   ]
  },
  {
   "cell_type": "code",
   "execution_count": 52,
   "metadata": {},
   "outputs": [],
   "source": [
    "#save dataset\n",
    "data_full.to_csv('python_transactions.csv', index = False)"
   ]
  },
  {
   "cell_type": "code",
   "execution_count": 53,
   "metadata": {},
   "outputs": [
    {
     "data": {
      "text/plain": [
       "array(['Gender', 'Marital Status', 'Homeowner', 'Annual Income', 'City',\n",
       "       'State or Province', 'Country', 'Product Family',\n",
       "       'Product Department', 'Product Category'], dtype='<U18')"
      ]
     },
     "execution_count": 53,
     "metadata": {},
     "output_type": "execute_result"
    }
   ],
   "source": [
    "#handle categorical vriables\n",
    "custid = ['Customer ID']\n",
    "data = ['Purchase Date']\n",
    "target = ['Revenue']\n",
    "num = ['Children', 'Revenue', 'Units Sold']\n",
    "\n",
    "#store categorical column names\n",
    "cat = np.array([x for x in df.columns if x not in custid + data + target + num])\n",
    "cat"
   ]
  },
  {
   "cell_type": "code",
   "execution_count": 91,
   "metadata": {},
   "outputs": [],
   "source": [
    "#handle categorical variables: create dummy variables\n",
    "data = pd.get_dummies (data = data_full, columns = cat, drop_first = True)"
   ]
  },
  {
   "cell_type": "code",
   "execution_count": 55,
   "metadata": {},
   "outputs": [
    {
     "data": {
      "text/plain": [
       "(14047, 118)"
      ]
     },
     "execution_count": 55,
     "metadata": {},
     "output_type": "execute_result"
    }
   ],
   "source": [
    "#drop rows with null values (in Purcahse Date column)\n",
    "data_null = data[data.isna().any(axis = 1)].index\n",
    "data = data.drop (data_null)\n",
    "data.shape"
   ]
  },
  {
   "cell_type": "code",
   "execution_count": 60,
   "metadata": {},
   "outputs": [],
   "source": [
    "#assign values to X and y (target)\n",
    "X = data.drop(labels = ['Revenue', 'Customer ID', 'Margin', 'Profit', 'CODS', 'Units Sold', 'Purchase Date'],axis = 1)\n",
    "y = data['Revenue']"
   ]
  },
  {
   "cell_type": "code",
   "execution_count": 105,
   "metadata": {},
   "outputs": [],
   "source": [
    "#split the data set into train & test\n",
    "from sklearn.model_selection import train_test_split\n",
    "X_train, X_test, y_train, y_test = train_test_split(X, y, test_size = 0.3)"
   ]
  },
  {
   "cell_type": "code",
   "execution_count": 149,
   "metadata": {},
   "outputs": [],
   "source": [
    "#regression decision tree\n",
    "from sklearn.tree import DecisionTreeRegressor\n",
    "\n",
    "tree= DecisionTreeRegressor(random_state = 42, max_depth = 6, max_features = 0.8, min_samples_leaf = 10)\n",
    "tree.fit(X_train, y_train)\n",
    "y_pred = tree.predict (X_test)"
   ]
  },
  {
   "cell_type": "code",
   "execution_count": 150,
   "metadata": {},
   "outputs": [
    {
     "name": "stdout",
     "output_type": "stream",
     "text": [
      "{'ccp_alpha': 0.0, 'criterion': 'mse', 'max_depth': 6, 'max_features': 0.8, 'max_leaf_nodes': None, 'min_impurity_decrease': 0.0, 'min_impurity_split': None, 'min_samples_leaf': 10, 'min_samples_split': 2, 'min_weight_fraction_leaf': 0.0, 'presort': 'deprecated', 'random_state': 42, 'splitter': 'best'}\n"
     ]
    }
   ],
   "source": [
    "print(tree.get_params())"
   ]
  },
  {
   "cell_type": "code",
   "execution_count": 151,
   "metadata": {},
   "outputs": [
    {
     "name": "stdout",
     "output_type": "stream",
     "text": [
      "Test set RMSE of decision tree: 8.10\n"
     ]
    }
   ],
   "source": [
    "#assess performance of decision tree with RMSE\n",
    "from sklearn.metrics import mean_squared_error\n",
    "\n",
    "tree_mse = mean_squared_error(y_test, y_pred)\n",
    "tree_rmse = np.sqrt(tree_mse)\n",
    "print('Test set RMSE of decision tree: {:.2f}'.format(tree_rmse))"
   ]
  },
  {
   "cell_type": "code",
   "execution_count": 152,
   "metadata": {},
   "outputs": [
    {
     "name": "stdout",
     "output_type": "stream",
     "text": [
      "CV RMSE: 8.11\n",
      "Train MSE: 8.08\n",
      "Test MSE: 8.10\n"
     ]
    }
   ],
   "source": [
    "#K-fold cross-validation to overcome bias-variance problem\n",
    "from sklearn.model_selection import cross_val_score\n",
    "\n",
    "mse_cv = -cross_val_score(tree, X_train, y_train, cv = 10, scoring = 'neg_mean_squared_error', n_jobs = -1)\n",
    "rmse_cv = np.sqrt(mse_cv)\n",
    "tree.fit (X_train, y_train)\n",
    "y_predict_train = tree.predict (X_train)\n",
    "y_predict_test = tree.predict (X_test)\n",
    "\n",
    "print('CV RMSE: {:.2f}'.format (rmse_cv.mean()))\n",
    "print('Train MSE: {:.2f}'.format (np.sqrt(mean_squared_error(y_train, y_predict_train))))\n",
    "print('Test MSE: {:.2f}'.format (np.sqrt(mean_squared_error(y_test, y_predict_test))))"
   ]
  },
  {
   "cell_type": "code",
   "execution_count": 147,
   "metadata": {},
   "outputs": [
    {
     "data": {
      "text/plain": [
       "GridSearchCV(cv=10, error_score=nan,\n",
       "             estimator=DecisionTreeRegressor(ccp_alpha=0.0, criterion='mse',\n",
       "                                             max_depth=4, max_features=0.6,\n",
       "                                             max_leaf_nodes=None,\n",
       "                                             min_impurity_decrease=0.0,\n",
       "                                             min_impurity_split=None,\n",
       "                                             min_samples_leaf=0.04,\n",
       "                                             min_samples_split=2,\n",
       "                                             min_weight_fraction_leaf=0.0,\n",
       "                                             presort='deprecated',\n",
       "                                             random_state=42, splitter='best'),\n",
       "             iid='deprecated', n_jobs=-1,\n",
       "             param_grid={'max_depth': [3, 4, 5, 6, 8, 10],\n",
       "                         'max_features': [0.2, 0.4, 0.6, 0.8],\n",
       "                         'min_samples_leaf': [0.1, 0.5, 1, 5, 10]},\n",
       "             pre_dispatch='2*n_jobs', refit=True, return_train_score=True,\n",
       "             scoring='neg_mean_squared_error', verbose=0)"
      ]
     },
     "execution_count": 147,
     "metadata": {},
     "output_type": "execute_result"
    }
   ],
   "source": [
    "#tune haperparameters of a decision tree\n",
    "from sklearn.model_selection import GridSearchCV\n",
    "\n",
    "params_grid = {\n",
    "                'max_features': [0.2, 0.4, 0.6, 0.8],\n",
    "                'min_samples_leaf': [0.1, 0.5, 1, 5, 10],\n",
    "                'max_depth': [3, 4, 5, 6, 8, 10]\n",
    "            }\n",
    "    \n",
    "grid_search = GridSearchCV(tree, param_grid = params_grid, cv=10,\n",
    "                           scoring='neg_mean_squared_error', n_jobs= -1, return_train_score=True)\n",
    "grid_search.fit(X_train, y_train)"
   ]
  },
  {
   "cell_type": "code",
   "execution_count": 148,
   "metadata": {},
   "outputs": [
    {
     "name": "stdout",
     "output_type": "stream",
     "text": [
      "Best hyperparameters for decision tree:\n",
      " {'max_depth': 6, 'max_features': 0.8, 'min_samples_leaf': 10}\n"
     ]
    }
   ],
   "source": [
    "#extract hyperparameters values\n",
    "best_params = grid_search.best_params_\n",
    "print('Best hyperparameters for decision tree:\\n', best_params)"
   ]
  },
  {
   "cell_type": "code",
   "execution_count": 162,
   "metadata": {},
   "outputs": [
    {
     "name": "stdout",
     "output_type": "stream",
     "text": [
      "Best CV RMSE: 8.11\n"
     ]
    }
   ],
   "source": [
    "#best score from grod_search\n",
    "best_cv_score = -grid_search.best_score_\n",
    "print('Best CV RMSE: {:.2f}'.format(np.sqrt(best_cv_score)))"
   ]
  },
  {
   "cell_type": "code",
   "execution_count": 182,
   "metadata": {},
   "outputs": [],
   "source": [
    "#bagging with Random Forests (ensemble)\n",
    "#bootstrap samples are created with replacement\n",
    "from sklearn.ensemble import RandomForestRegressor\n",
    "\n",
    "rf = RandomForestRegressor(max_features = 0.8, max_depth = 6, min_samples_leaf = 10)\n",
    "rf.fit(X_train, y_train)\n",
    "y_pred_rf = rf.predict (X_test)"
   ]
  },
  {
   "cell_type": "code",
   "execution_count": 183,
   "metadata": {},
   "outputs": [
    {
     "name": "stdout",
     "output_type": "stream",
     "text": [
      "Test set RMSE of random forest: 8.10\n"
     ]
    }
   ],
   "source": [
    "rmse_test_rf = np.sqrt(mean_squared_error(y_test, y_pred))\n",
    "print('Test set RMSE of random forest: {:.2f}'.format(rmse_test_rf))"
   ]
  },
  {
   "cell_type": "code",
   "execution_count": null,
   "metadata": {},
   "outputs": [],
   "source": [
    "#assess feature importance (to reduce impurity)\n",
    "\n",
    "importances_rf = pd.Series(rf.feature_importances_, index = X.columns)\n",
    "sorted_importances_rf = importances_rf.sort_values(ascending = False).head(4)"
   ]
  },
  {
   "cell_type": "code",
   "execution_count": 202,
   "metadata": {},
   "outputs": [
    {
     "data": {
      "image/png": "[encoded data removed]",
      "text/plain": [
       "<Figure size 432x288 with 1 Axes>"
      ]
     },
     "metadata": {
      "needs_background": "light"
     },
     "output_type": "display_data"
    }
   ],
   "source": [
    "plt.title ('Feature Importance')\n",
    "sorted_importances_rf.plot(kind = 'barh', color = 'green', fontsize = 10);\n",
    "plt.show()"
   ]
  },
  {
   "cell_type": "code",
   "execution_count": 188,
   "metadata": {},
   "outputs": [
    {
     "name": "stdout",
     "output_type": "stream",
     "text": [
      "Fitting 5 folds for each of 240 candidates, totalling 1200 fits\n"
     ]
    },
    {
     "name": "stderr",
     "output_type": "stream",
     "text": [
      "[Parallel(n_jobs=-1)]: Using backend LokyBackend with 4 concurrent workers.\n",
      "[Parallel(n_jobs=-1)]: Done  76 tasks      | elapsed:    7.6s\n",
      "[Parallel(n_jobs=-1)]: Done 236 tasks      | elapsed:   35.7s\n",
      "[Parallel(n_jobs=-1)]: Done 486 tasks      | elapsed:  1.5min\n",
      "[Parallel(n_jobs=-1)]: Done 836 tasks      | elapsed:  3.0min\n",
      "[Parallel(n_jobs=-1)]: Done 1200 out of 1200 | elapsed:  5.0min finished\n"
     ]
    },
    {
     "data": {
      "text/plain": [
       "GridSearchCV(cv=5, error_score=nan,\n",
       "             estimator=RandomForestRegressor(bootstrap=True, ccp_alpha=0.0,\n",
       "                                             criterion='mse', max_depth=6,\n",
       "                                             max_features=0.8,\n",
       "                                             max_leaf_nodes=None,\n",
       "                                             max_samples=None,\n",
       "                                             min_impurity_decrease=0.0,\n",
       "                                             min_impurity_split=None,\n",
       "                                             min_samples_leaf=10,\n",
       "                                             min_samples_split=2,\n",
       "                                             min_weight_fraction_leaf=0.0,\n",
       "                                             n_estimators=100, n_jobs=None,\n",
       "                                             oob_score=False, random_state=None,\n",
       "                                             verbose=0, warm_start=False),\n",
       "             iid='deprecated', n_jobs=-1,\n",
       "             param_grid={'max_depth': [4, 6, 8, 10],\n",
       "                         'max_features': ['log2', 'sqrt'],\n",
       "                         'min_samples_leaf': [0.1, 0.5, 1, 5, 10],\n",
       "                         'n_estimators': [20, 100, 150, 200, 300, 400]},\n",
       "             pre_dispatch='2*n_jobs', refit=True, return_train_score=True,\n",
       "             scoring='neg_mean_squared_error', verbose=1)"
      ]
     },
     "execution_count": 188,
     "metadata": {},
     "output_type": "execute_result"
    }
   ],
   "source": [
    "#tune haperparameters of a random forest\n",
    "from sklearn.model_selection import GridSearchCV\n",
    "\n",
    "param_grid_rf = {\n",
    "                'n_estimators': [20, 100, 150, 200, 300, 400],\n",
    "                'max_features': ['log2', 'sqrt'],\n",
    "                'min_samples_leaf': [0.1, 0.5, 1, 5, 10],\n",
    "                'max_depth': [4, 6, 8, 10]\n",
    "            }\n",
    "\n",
    "grid_search_rf = GridSearchCV(rf, param_grid_rf, cv=5,\n",
    "                           scoring='neg_mean_squared_error', verbose = 1, return_train_score=True, n_jobs = -1)\n",
    "grid_search_rf.fit(X_train, y_train)"
   ]
  },
  {
   "cell_type": "code",
   "execution_count": 190,
   "metadata": {},
   "outputs": [
    {
     "name": "stdout",
     "output_type": "stream",
     "text": [
      "Best hyperparameters for decision tree:\n",
      " {'max_depth': 6, 'max_features': 0.8, 'min_samples_leaf': 10}\n"
     ]
    }
   ],
   "source": [
    "#extract hyperparameters values\n",
    "best_params_rf = grid_search.best_params_\n",
    "print('Best hyperparameters for decision tree:\\n', best_params_rf)"
   ]
  },
  {
   "cell_type": "code",
   "execution_count": 194,
   "metadata": {},
   "outputs": [
    {
     "name": "stdout",
     "output_type": "stream",
     "text": [
      "Test set RMSE of random forest: 8.09\n"
     ]
    }
   ],
   "source": [
    "best_model = grid_search_rf.best_estimator_\n",
    "y_pred = best_model.predict(X_test)\n",
    "rmse_test_rf = np.sqrt(mean_squared_error(y_test, y_pred))\n",
    "print('Test set RMSE of random forest: {:.2f}'.format(rmse_test_rf))"
   ]
  }
 ],
 "metadata": {
  "kernelspec": {
   "display_name": "Python 3",
   "language": "python",
   "name": "python3"
  },
  "language_info": {
   "codemirror_mode": {
    "name": "ipython",
    "version": 3
   },
   "file_extension": ".py",
   "mimetype": "text/x-python",
   "name": "python",
   "nbconvert_exporter": "python",
   "pygments_lexer": "ipython3",
   "version": "3.7.1"
  }
 },
 "nbformat": 4,
 "nbformat_minor": 2
}
